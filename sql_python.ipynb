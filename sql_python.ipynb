{
 "cells": [
  {
   "cell_type": "code",
   "execution_count": 4,
   "metadata": {},
   "outputs": [],
   "source": [
    "import sqlite3\n",
    "conn = sqlite3.connect(\"zmones.db\")\n",
    "c = conn.cursor()"
   ]
  },
  {
   "cell_type": "code",
   "execution_count": 5,
   "metadata": {},
   "outputs": [],
   "source": [
    "create_query = \"\"\"CREATE TABLE draugai (\n",
    "    id INTEGER PRIMARY KEY AUTOINCREMENT,\n",
    "    first_name VARCHAR(50),\n",
    "    last_name VARCHAR(50),\n",
    "    email VARCHAR(100)\n",
    ");\"\"\""
   ]
  },
  {
   "cell_type": "code",
   "execution_count": 6,
   "metadata": {},
   "outputs": [
    {
     "ename": "OperationalError",
     "evalue": "table draugai already exists",
     "output_type": "error",
     "traceback": [
      "\u001b[1;31m---------------------------------------------------------------------------\u001b[0m",
      "\u001b[1;31mOperationalError\u001b[0m                          Traceback (most recent call last)",
      "Cell \u001b[1;32mIn[6], line 1\u001b[0m\n\u001b[1;32m----> 1\u001b[0m c\u001b[39m.\u001b[39;49mexecute(create_query)\n\u001b[0;32m      2\u001b[0m conn\u001b[39m.\u001b[39mcommit()\n",
      "\u001b[1;31mOperationalError\u001b[0m: table draugai already exists"
     ]
    }
   ],
   "source": [
    "c.execute(create_query)\n",
    "conn.commit()"
   ]
  },
  {
   "cell_type": "code",
   "execution_count": null,
   "metadata": {},
   "outputs": [],
   "source": [
    "insert_friend_query = ''' INSERT INTO draugai \n",
    "(first_name, last_name, email)\n",
    "VALUES (\"Elon\", \"Musk\", \"elon@tesla.com\");\n",
    "'''\n",
    "c.execute(insert_friend_query)\n",
    "conn.commit()"
   ]
  },
  {
   "cell_type": "code",
   "execution_count": null,
   "metadata": {},
   "outputs": [],
   "source": [
    "with conn:\n",
    "    c.execute(insert_friend_query)"
   ]
  },
  {
   "cell_type": "code",
   "execution_count": null,
   "metadata": {},
   "outputs": [
    {
     "name": "stdout",
     "output_type": "stream",
     "text": [
      "[(1, 'Elon', 'Musk', 'elon@tesla.com'), (2, 'Elon', 'Musk', 'elon@tesla.com')]\n"
     ]
    }
   ],
   "source": [
    "with conn:\n",
    "    c.execute(\"SELECT * FROM draugai\")\n",
    "    print(c.fetchall())"
   ]
  },
  {
   "cell_type": "code",
   "execution_count": null,
   "metadata": {},
   "outputs": [
    {
     "name": "stdout",
     "output_type": "stream",
     "text": [
      "(1, 'Elon', 'Musk', 'elon@tesla.com')\n",
      "(2, 'Elon', 'Musk', 'elon@tesla.com')\n",
      "None\n"
     ]
    }
   ],
   "source": [
    "with conn:\n",
    "    c.execute(\"SELECT * FROM draugai\")\n",
    "    print(c.fetchone())\n",
    "    print(c.fetchone())\n",
    "    print(c.fetchone())"
   ]
  },
  {
   "cell_type": "code",
   "execution_count": null,
   "metadata": {},
   "outputs": [
    {
     "name": "stdout",
     "output_type": "stream",
     "text": [
      "(2, 'Elon', 'Musk', 'elon@tesla.com')\n"
     ]
    }
   ],
   "source": [
    "with conn:\n",
    "    c.execute(\"SELECT * FROM draugai\")\n",
    "    while True:\n",
    "        row = c.fetchone()\n",
    "        if not row:\n",
    "            break\n",
    "        print(row)\n",
    "    "
   ]
  },
  {
   "cell_type": "code",
   "execution_count": null,
   "metadata": {},
   "outputs": [],
   "source": [
    "with conn:\n",
    "    c.execute(\"DELETE FROM draugai WHERE id IN (1)\")"
   ]
  },
  {
   "cell_type": "code",
   "execution_count": 7,
   "metadata": {},
   "outputs": [],
   "source": [
    "nauji_draugai = [\n",
    "    (\"karolis\", \"tamulevicius\", \"karolis@tesla.com\"),\n",
    "    (\"karolis2\", \"tamulevicius2\", \"karolis2@tesla.com\"),\n",
    "    (\"karolis3\", \"tamulevicius3\", \"karolis3@tesla.com\")\n",
    "]\n",
    "with conn:\n",
    "    c.executemany(\"\"\"INSERT INTO draugai\n",
    "        (first_name, last_name, email) VALUES (?, ?, ?)\"\"\",\n",
    "        nauji_draugai)"
   ]
  }
 ],
 "metadata": {
  "kernelspec": {
   "display_name": "Python 3",
   "language": "python",
   "name": "python3"
  },
  "language_info": {
   "codemirror_mode": {
    "name": "ipython",
    "version": 3
   },
   "file_extension": ".py",
   "mimetype": "text/x-python",
   "name": "python",
   "nbconvert_exporter": "python",
   "pygments_lexer": "ipython3",
   "version": "3.11.2"
  },
  "orig_nbformat": 4
 },
 "nbformat": 4,
 "nbformat_minor": 2
}
