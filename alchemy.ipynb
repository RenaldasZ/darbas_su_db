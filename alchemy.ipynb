{
 "cells": [
  {
   "attachments": {},
   "cell_type": "markdown",
   "metadata": {},
   "source": [
    "### Pirma pamoka"
   ]
  },
  {
   "cell_type": "code",
   "execution_count": null,
   "metadata": {},
   "outputs": [],
   "source": [
    "from sqlalchemy import create_engine, Integer, String, Float, DateTime\n",
    "from sqlalchemy.orm import DeclarativeBase, mapped_column\n",
    "from datetime import datetime\n",
    "\n"
   ]
  },
  {
   "cell_type": "code",
   "execution_count": null,
   "metadata": {},
   "outputs": [],
   "source": [
    "db_engine = create_engine('sqlite:///projektai.db', echo=True)"
   ]
  },
  {
   "cell_type": "code",
   "execution_count": null,
   "metadata": {},
   "outputs": [],
   "source": [
    "from typing import Any\n",
    "\n",
    "class Base(DeclarativeBase):\n",
    "    pass\n",
    "\n",
    "class Projektas(Base):\n",
    "    __tablename__ = \"projectas\"\n",
    "    id = mapped_column(Integer, primary_key=True)\n",
    "    name = mapped_column(String(50), nullable=False)\n",
    "    price = mapped_column(Float(2), nullable=False)\n",
    "    created = mapped_column(DateTime, default=datetime.utcnow)\n",
    "\n",
    "    def __init__ (self, **kw: Any):\n",
    "        for key, value in kw.items():\n",
    "            setattr(self, key, value)\n",
    "\n",
    "    def __repr__(self) -> str:\n",
    "        return f\"({self.id}, {self.name}, {self.price})\"\n"
   ]
  },
  {
   "cell_type": "code",
   "execution_count": null,
   "metadata": {},
   "outputs": [],
   "source": [
    "\n",
    "Base.metadata.create_all(db_engine)"
   ]
  },
  {
   "attachments": {},
   "cell_type": "markdown",
   "metadata": {},
   "source": [
    "### antra pamoka"
   ]
  },
  {
   "cell_type": "code",
   "execution_count": null,
   "metadata": {},
   "outputs": [],
   "source": [
    "from sqlalchemy.orm import Session\n",
    "\n",
    "\n",
    "# engine = \n",
    "# create_engine('sqlite:///projektai2.db')\n",
    "# Session = sessionmaker(bind=engine)\n",
    "# session = Session()\n",
    "# \"\"\":type: sqlalchemy.orm.Session\"\"\""
   ]
  },
  {
   "cell_type": "code",
   "execution_count": null,
   "metadata": {},
   "outputs": [],
   "source": [
    "with Session(db_engine) as session:\n",
    "    db_1 = Projektas(name=\"Duomenu baziu su python kursas\", price=2000)\n",
    "    django = Projektas(name=\"django kursas\", price=7000)\n",
    "    frontas = Projektas(name=\"fronto kursas\", price=3000)\n",
    "    session.add_all([db_1, frontas, django])\n",
    "    session.commit()"
   ]
  },
  {
   "cell_type": "code",
   "execution_count": null,
   "metadata": {},
   "outputs": [],
   "source": [
    "with Session(db_engine) as session:\n",
    "    projektai = session.query(Projektas).all()"
   ]
  },
  {
   "cell_type": "code",
   "execution_count": null,
   "metadata": {},
   "outputs": [],
   "source": [
    "print(projektai)"
   ]
  },
  {
   "cell_type": "code",
   "execution_count": null,
   "metadata": {},
   "outputs": [],
   "source": [
    "for projektas in projektai:\n",
    "    print(projektas)"
   ]
  },
  {
   "cell_type": "code",
   "execution_count": null,
   "metadata": {},
   "outputs": [],
   "source": [
    "# with Session(db_engine) as session:\n",
    "#     projektai = session.query(Projektas).filter_by(name=\"django kursas\").one()\n",
    "# print(django_kursas)"
   ]
  },
  {
   "cell_type": "code",
   "execution_count": null,
   "metadata": {},
   "outputs": [],
   "source": [
    "with Session(db_engine) as session:\n",
    "    pigus = session.query(Projektas).filter(Projektas.price <= 2000)\n",
    "    pigus = pigus.order_by(Projektas.price).all()\n",
    "for projektas in pigus:\n",
    "    print(projektas.price, projektas.name)"
   ]
  },
  {
   "cell_type": "code",
   "execution_count": null,
   "metadata": {},
   "outputs": [],
   "source": [
    "with Session(db_engine) as session:\n",
    "    kursai = session.query(Projektas).filter(Projektas.name.ilike(\"%Python%\")).all()\n",
    "for kursas in kursai:\n",
    "    print(kursas)"
   ]
  },
  {
   "cell_type": "code",
   "execution_count": null,
   "metadata": {},
   "outputs": [],
   "source": [
    "with Session(db_engine) as session:\n",
    "    kursai = session.query(Projektas).filter(Projektas.name.ilike(\"%Python%\")).all()\n",
    "    kursai[0].price = 4000\n",
    "    print(kursai[0])\n",
    "    session.commit()"
   ]
  },
  {
   "cell_type": "code",
   "execution_count": null,
   "metadata": {},
   "outputs": [],
   "source": [
    "from sqlalchemy.orm import sessionmaker\n",
    "session = sessionmaker(bind=db_engine)()\n",
    "\n",
    "projektas = session.query(Projektas).filter(Projektas.name.like(\"%django%\")).all()\n",
    "print(projektas)"
   ]
  },
  {
   "cell_type": "code",
   "execution_count": null,
   "metadata": {},
   "outputs": [],
   "source": [
    "projektas.price = 7775\n",
    "session.commit()"
   ]
  }
 ],
 "metadata": {
  "kernelspec": {
   "display_name": "Python 3",
   "language": "python",
   "name": "python3"
  },
  "language_info": {
   "codemirror_mode": {
    "name": "ipython",
    "version": 3
   },
   "file_extension": ".py",
   "mimetype": "text/x-python",
   "name": "python",
   "nbconvert_exporter": "python",
   "pygments_lexer": "ipython3",
   "version": "3.11.2"
  },
  "orig_nbformat": 4
 },
 "nbformat": 4,
 "nbformat_minor": 2
}
